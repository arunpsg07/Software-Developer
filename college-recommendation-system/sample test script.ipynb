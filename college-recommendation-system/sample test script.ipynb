{
 "cells": [
  {
   "cell_type": "code",
   "execution_count": 47,
   "metadata": {},
   "outputs": [],
   "source": [
    "from bs4 import BeautifulSoup\n",
    "import requests\n",
    "import time\n",
    "from random import randint\n",
    "import urllib.request\n",
    "import json\n",
    "from openpyxl import Workbook\n"
   ]
  },
  {
   "cell_type": "code",
   "execution_count": 48,
   "metadata": {},
   "outputs": [],
   "source": [
    "sites = [\n",
    "    \"https://www.careers360.com/colleges/anugrah-narayan-college-patna/courses?sort_by=1&icn=college_sub_page&ici=clg_8156_college_listing_tuple\",\n",
    "    \"https://www.careers360.com/colleges/asian-academy-of-film-and-television-noida/courses\"\n",
    "]"
   ]
  },
  {
   "cell_type": "code",
   "execution_count": 49,
   "metadata": {},
   "outputs": [],
   "source": [
    "get_courses_offered_in_the_college = []"
   ]
  },
  {
   "cell_type": "code",
   "execution_count": 50,
   "metadata": {},
   "outputs": [
    {
     "name": "stdout",
     "output_type": "stream",
     "text": [
      "30\n"
     ]
    }
   ],
   "source": [
    "def get_course( url , degree) :\n",
    "\n",
    "    try:\n",
    "\n",
    "        res = requests.get(url)\n",
    "        \n",
    "        time.sleep(1)\n",
    "\n",
    "        soup = BeautifulSoup( res.text , \"html.parser\" )\n",
    "\n",
    "        course_list = soup.find_all( class_ = 'card_blk' )\n",
    "\n",
    "        for course in course_list :\n",
    "            course_details = course.find(class_ = \"detail\")\n",
    "\n",
    "            degreeName = course_details.a.text\n",
    "            duration   = course_details.span.text\n",
    "\n",
    "            degree.append(degreeName)\n",
    "            # print(degreeName , duration)\n",
    "\n",
    "        try :\n",
    "            isNextPageAvailable = soup.find_all(class_ = 'college_pagination')\n",
    "            \n",
    "            for i in range(len(isNextPageAvailable)) :\n",
    "                get_course(isNextPageAvailable[i].find(\"a\", class_ = 'pagination_list_last')[\"href\"] , degree)\n",
    "\n",
    "        except Exception as e:\n",
    "            return\n",
    "\n",
    "    except Exception as e:\n",
    "        print(f\"Exception occured : from courses : {e} \\n\\n\")\n",
    "    \n",
    "    finally:\n",
    "        return degree\n",
    "\n",
    "for i in sites:\n",
    "    get_courses_offered_in_the_college.append(get_course(i , [] ))\n",
    "    break\n",
    "\n",
    "len(get_courses_offered_in_the_college)\n",
    "\n",
    "for i in get_courses_offered_in_the_college:\n",
    "    print(len(i))"
   ]
  },
  {
   "cell_type": "code",
   "execution_count": 51,
   "metadata": {},
   "outputs": [],
   "source": [
    "\n",
    "wb = Workbook()\n",
    "ws = wb.active\n",
    "\n",
    "\n",
    "for i in get_courses_offered_in_the_college:\n",
    "    ws.append([json.dumps(get_courses_offered_in_the_college)])\n",
    "\n",
    "wb.save(r\"E:\\academic lab\\IR\\package\\data.xlsx\")    "
   ]
  }
 ],
 "metadata": {
  "kernelspec": {
   "display_name": "base",
   "language": "python",
   "name": "python3"
  },
  "language_info": {
   "codemirror_mode": {
    "name": "ipython",
    "version": 3
   },
   "file_extension": ".py",
   "mimetype": "text/x-python",
   "name": "python",
   "nbconvert_exporter": "python",
   "pygments_lexer": "ipython3",
   "version": "3.8.5"
  },
  "orig_nbformat": 4
 },
 "nbformat": 4,
 "nbformat_minor": 2
}
